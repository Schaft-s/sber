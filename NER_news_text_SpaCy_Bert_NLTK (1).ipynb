{
  "nbformat": 4,
  "nbformat_minor": 0,
  "metadata": {
    "colab": {
      "provenance": []
    },
    "kernelspec": {
      "name": "python3",
      "display_name": "Python 3"
    },
    "language_info": {
      "name": "python"
    }
  },
  "cells": [
    {
      "cell_type": "markdown",
      "source": [
        "### Вступление\n",
        "Так как в своём [исследовании](https://github.com/intsystems/2024-Project-142) \"Классификация ОКПД 2 кодов\" я пользовался библиотекой SpaСy, я знаю что она хорошо умеет предобрабатывать текст, собственно, оказалось, что она решает поставленную задачу. \\\\\n",
        "\n",
        "[Ссылка](https://spacy.io/models/ru) на предобученную модель (документацию) кототорй пользуюсь\n",
        "\n",
        "Также можно просто использовать обученный bert который тоже делает NER  \n",
        "\n",
        "Или если очень хочется контролировать процесс поэтапно - можно сделать это через NLTK\n",
        "\n",
        "Все решения представлены ниже"
      ],
      "metadata": {
        "id": "LT-3w-nGYS-v"
      }
    },
    {
      "cell_type": "markdown",
      "source": [
        "### Загрузка библиотек"
      ],
      "metadata": {
        "id": "dSv5PRKjmGKN"
      }
    },
    {
      "cell_type": "code",
      "source": [
        "import spacy\n",
        "import pandas as pd\n",
        "from transformers import pipeline\n"
      ],
      "metadata": {
        "id": "M6VaZhvvYm1n"
      },
      "execution_count": 1,
      "outputs": []
    },
    {
      "cell_type": "code",
      "source": [
        "!python -m spacy download ru_core_news_lg"
      ],
      "metadata": {
        "colab": {
          "base_uri": "https://localhost:8080/"
        },
        "collapsed": true,
        "id": "Uv1ldC4qfK2H",
        "outputId": "fb89e248-559f-4467-ce8e-231cb5a47760"
      },
      "execution_count": 2,
      "outputs": [
        {
          "output_type": "stream",
          "name": "stdout",
          "text": [
            "Collecting ru-core-news-lg==3.7.0\n",
            "  Downloading https://github.com/explosion/spacy-models/releases/download/ru_core_news_lg-3.7.0/ru_core_news_lg-3.7.0-py3-none-any.whl (513.4 MB)\n",
            "\u001b[2K     \u001b[90m━━━━━━━━━━━━━━━━━━━━━━━━━━━━━━━━━━━━━━━━\u001b[0m \u001b[32m513.4/513.4 MB\u001b[0m \u001b[31m868.6 kB/s\u001b[0m eta \u001b[36m0:00:00\u001b[0m\n",
            "\u001b[?25hRequirement already satisfied: spacy<3.8.0,>=3.7.0 in /usr/local/lib/python3.10/dist-packages (from ru-core-news-lg==3.7.0) (3.7.6)\n",
            "Requirement already satisfied: pymorphy3>=1.0.0 in /usr/local/lib/python3.10/dist-packages (from ru-core-news-lg==3.7.0) (2.0.2)\n",
            "Requirement already satisfied: dawg-python>=0.7.1 in /usr/local/lib/python3.10/dist-packages (from pymorphy3>=1.0.0->ru-core-news-lg==3.7.0) (0.7.2)\n",
            "Requirement already satisfied: pymorphy3-dicts-ru in /usr/local/lib/python3.10/dist-packages (from pymorphy3>=1.0.0->ru-core-news-lg==3.7.0) (2.4.417150.4580142)\n",
            "Requirement already satisfied: spacy-legacy<3.1.0,>=3.0.11 in /usr/local/lib/python3.10/dist-packages (from spacy<3.8.0,>=3.7.0->ru-core-news-lg==3.7.0) (3.0.12)\n",
            "Requirement already satisfied: spacy-loggers<2.0.0,>=1.0.0 in /usr/local/lib/python3.10/dist-packages (from spacy<3.8.0,>=3.7.0->ru-core-news-lg==3.7.0) (1.0.5)\n",
            "Requirement already satisfied: murmurhash<1.1.0,>=0.28.0 in /usr/local/lib/python3.10/dist-packages (from spacy<3.8.0,>=3.7.0->ru-core-news-lg==3.7.0) (1.0.10)\n",
            "Requirement already satisfied: cymem<2.1.0,>=2.0.2 in /usr/local/lib/python3.10/dist-packages (from spacy<3.8.0,>=3.7.0->ru-core-news-lg==3.7.0) (2.0.8)\n",
            "Requirement already satisfied: preshed<3.1.0,>=3.0.2 in /usr/local/lib/python3.10/dist-packages (from spacy<3.8.0,>=3.7.0->ru-core-news-lg==3.7.0) (3.0.9)\n",
            "Requirement already satisfied: thinc<8.3.0,>=8.2.2 in /usr/local/lib/python3.10/dist-packages (from spacy<3.8.0,>=3.7.0->ru-core-news-lg==3.7.0) (8.2.5)\n",
            "Requirement already satisfied: wasabi<1.2.0,>=0.9.1 in /usr/local/lib/python3.10/dist-packages (from spacy<3.8.0,>=3.7.0->ru-core-news-lg==3.7.0) (1.1.3)\n",
            "Requirement already satisfied: srsly<3.0.0,>=2.4.3 in /usr/local/lib/python3.10/dist-packages (from spacy<3.8.0,>=3.7.0->ru-core-news-lg==3.7.0) (2.4.8)\n",
            "Requirement already satisfied: catalogue<2.1.0,>=2.0.6 in /usr/local/lib/python3.10/dist-packages (from spacy<3.8.0,>=3.7.0->ru-core-news-lg==3.7.0) (2.0.10)\n",
            "Requirement already satisfied: weasel<0.5.0,>=0.1.0 in /usr/local/lib/python3.10/dist-packages (from spacy<3.8.0,>=3.7.0->ru-core-news-lg==3.7.0) (0.4.1)\n",
            "Requirement already satisfied: typer<1.0.0,>=0.3.0 in /usr/local/lib/python3.10/dist-packages (from spacy<3.8.0,>=3.7.0->ru-core-news-lg==3.7.0) (0.12.4)\n",
            "Requirement already satisfied: tqdm<5.0.0,>=4.38.0 in /usr/local/lib/python3.10/dist-packages (from spacy<3.8.0,>=3.7.0->ru-core-news-lg==3.7.0) (4.66.5)\n",
            "Requirement already satisfied: requests<3.0.0,>=2.13.0 in /usr/local/lib/python3.10/dist-packages (from spacy<3.8.0,>=3.7.0->ru-core-news-lg==3.7.0) (2.32.3)\n",
            "Requirement already satisfied: pydantic!=1.8,!=1.8.1,<3.0.0,>=1.7.4 in /usr/local/lib/python3.10/dist-packages (from spacy<3.8.0,>=3.7.0->ru-core-news-lg==3.7.0) (2.8.2)\n",
            "Requirement already satisfied: jinja2 in /usr/local/lib/python3.10/dist-packages (from spacy<3.8.0,>=3.7.0->ru-core-news-lg==3.7.0) (3.1.4)\n",
            "Requirement already satisfied: setuptools in /usr/local/lib/python3.10/dist-packages (from spacy<3.8.0,>=3.7.0->ru-core-news-lg==3.7.0) (71.0.4)\n",
            "Requirement already satisfied: packaging>=20.0 in /usr/local/lib/python3.10/dist-packages (from spacy<3.8.0,>=3.7.0->ru-core-news-lg==3.7.0) (24.1)\n",
            "Requirement already satisfied: langcodes<4.0.0,>=3.2.0 in /usr/local/lib/python3.10/dist-packages (from spacy<3.8.0,>=3.7.0->ru-core-news-lg==3.7.0) (3.4.0)\n",
            "Requirement already satisfied: numpy>=1.19.0 in /usr/local/lib/python3.10/dist-packages (from spacy<3.8.0,>=3.7.0->ru-core-news-lg==3.7.0) (1.26.4)\n",
            "Requirement already satisfied: language-data>=1.2 in /usr/local/lib/python3.10/dist-packages (from langcodes<4.0.0,>=3.2.0->spacy<3.8.0,>=3.7.0->ru-core-news-lg==3.7.0) (1.2.0)\n",
            "Requirement already satisfied: annotated-types>=0.4.0 in /usr/local/lib/python3.10/dist-packages (from pydantic!=1.8,!=1.8.1,<3.0.0,>=1.7.4->spacy<3.8.0,>=3.7.0->ru-core-news-lg==3.7.0) (0.7.0)\n",
            "Requirement already satisfied: pydantic-core==2.20.1 in /usr/local/lib/python3.10/dist-packages (from pydantic!=1.8,!=1.8.1,<3.0.0,>=1.7.4->spacy<3.8.0,>=3.7.0->ru-core-news-lg==3.7.0) (2.20.1)\n",
            "Requirement already satisfied: typing-extensions>=4.6.1 in /usr/local/lib/python3.10/dist-packages (from pydantic!=1.8,!=1.8.1,<3.0.0,>=1.7.4->spacy<3.8.0,>=3.7.0->ru-core-news-lg==3.7.0) (4.12.2)\n",
            "Requirement already satisfied: charset-normalizer<4,>=2 in /usr/local/lib/python3.10/dist-packages (from requests<3.0.0,>=2.13.0->spacy<3.8.0,>=3.7.0->ru-core-news-lg==3.7.0) (3.3.2)\n",
            "Requirement already satisfied: idna<4,>=2.5 in /usr/local/lib/python3.10/dist-packages (from requests<3.0.0,>=2.13.0->spacy<3.8.0,>=3.7.0->ru-core-news-lg==3.7.0) (3.7)\n",
            "Requirement already satisfied: urllib3<3,>=1.21.1 in /usr/local/lib/python3.10/dist-packages (from requests<3.0.0,>=2.13.0->spacy<3.8.0,>=3.7.0->ru-core-news-lg==3.7.0) (2.0.7)\n",
            "Requirement already satisfied: certifi>=2017.4.17 in /usr/local/lib/python3.10/dist-packages (from requests<3.0.0,>=2.13.0->spacy<3.8.0,>=3.7.0->ru-core-news-lg==3.7.0) (2024.7.4)\n",
            "Requirement already satisfied: blis<0.8.0,>=0.7.8 in /usr/local/lib/python3.10/dist-packages (from thinc<8.3.0,>=8.2.2->spacy<3.8.0,>=3.7.0->ru-core-news-lg==3.7.0) (0.7.11)\n",
            "Requirement already satisfied: confection<1.0.0,>=0.0.1 in /usr/local/lib/python3.10/dist-packages (from thinc<8.3.0,>=8.2.2->spacy<3.8.0,>=3.7.0->ru-core-news-lg==3.7.0) (0.1.5)\n",
            "Requirement already satisfied: click>=8.0.0 in /usr/local/lib/python3.10/dist-packages (from typer<1.0.0,>=0.3.0->spacy<3.8.0,>=3.7.0->ru-core-news-lg==3.7.0) (8.1.7)\n",
            "Requirement already satisfied: shellingham>=1.3.0 in /usr/local/lib/python3.10/dist-packages (from typer<1.0.0,>=0.3.0->spacy<3.8.0,>=3.7.0->ru-core-news-lg==3.7.0) (1.5.4)\n",
            "Requirement already satisfied: rich>=10.11.0 in /usr/local/lib/python3.10/dist-packages (from typer<1.0.0,>=0.3.0->spacy<3.8.0,>=3.7.0->ru-core-news-lg==3.7.0) (13.7.1)\n",
            "Requirement already satisfied: cloudpathlib<1.0.0,>=0.7.0 in /usr/local/lib/python3.10/dist-packages (from weasel<0.5.0,>=0.1.0->spacy<3.8.0,>=3.7.0->ru-core-news-lg==3.7.0) (0.18.1)\n",
            "Requirement already satisfied: smart-open<8.0.0,>=5.2.1 in /usr/local/lib/python3.10/dist-packages (from weasel<0.5.0,>=0.1.0->spacy<3.8.0,>=3.7.0->ru-core-news-lg==3.7.0) (7.0.4)\n",
            "Requirement already satisfied: MarkupSafe>=2.0 in /usr/local/lib/python3.10/dist-packages (from jinja2->spacy<3.8.0,>=3.7.0->ru-core-news-lg==3.7.0) (2.1.5)\n",
            "Requirement already satisfied: marisa-trie>=0.7.7 in /usr/local/lib/python3.10/dist-packages (from language-data>=1.2->langcodes<4.0.0,>=3.2.0->spacy<3.8.0,>=3.7.0->ru-core-news-lg==3.7.0) (1.2.0)\n",
            "Requirement already satisfied: markdown-it-py>=2.2.0 in /usr/local/lib/python3.10/dist-packages (from rich>=10.11.0->typer<1.0.0,>=0.3.0->spacy<3.8.0,>=3.7.0->ru-core-news-lg==3.7.0) (3.0.0)\n",
            "Requirement already satisfied: pygments<3.0.0,>=2.13.0 in /usr/local/lib/python3.10/dist-packages (from rich>=10.11.0->typer<1.0.0,>=0.3.0->spacy<3.8.0,>=3.7.0->ru-core-news-lg==3.7.0) (2.16.1)\n",
            "Requirement already satisfied: wrapt in /usr/local/lib/python3.10/dist-packages (from smart-open<8.0.0,>=5.2.1->weasel<0.5.0,>=0.1.0->spacy<3.8.0,>=3.7.0->ru-core-news-lg==3.7.0) (1.16.0)\n",
            "Requirement already satisfied: mdurl~=0.1 in /usr/local/lib/python3.10/dist-packages (from markdown-it-py>=2.2.0->rich>=10.11.0->typer<1.0.0,>=0.3.0->spacy<3.8.0,>=3.7.0->ru-core-news-lg==3.7.0) (0.1.2)\n",
            "\u001b[38;5;2m✔ Download and installation successful\u001b[0m\n",
            "You can now load the package via spacy.load('ru_core_news_lg')\n",
            "\u001b[38;5;3m⚠ Restart to reload dependencies\u001b[0m\n",
            "If you are in a Jupyter or Colab notebook, you may need to restart Python in\n",
            "order to load all the package's dependencies. You can do this by selecting the\n",
            "'Restart kernel' or 'Restart runtime' option.\n"
          ]
        }
      ]
    },
    {
      "cell_type": "code",
      "source": [
        "nlp = spacy.load(\"ru_core_news_sm\") # после обработки дальнейшего текста мы сразу получим ответ\n",
        "# Под капотом происходит\n",
        "# Токенизация\n",
        "# POS Tagging - разделение на части речи\n",
        "# Лемматизация\n",
        "# Определение именованных сущностей (NER) --- то что нужно!\n",
        "# Зависимости и синтаксический разбор\n"
      ],
      "metadata": {
        "id": "36S9HNKRYsFt"
      },
      "execution_count": 3,
      "outputs": []
    },
    {
      "cell_type": "markdown",
      "source": [
        "### Решение со SpaCy"
      ],
      "metadata": {
        "id": "NR3TAyNGmKf0"
      }
    },
    {
      "cell_type": "code",
      "source": [
        "# Так как не стоит никакой грандиозной задачи - я просто зашёл на РБК и скопировал несколько первых статей\n",
        "\n",
        "text = '''\n",
        "Родственники спутницы Дурова сообщили, что она не выходит на связь\n",
        "\n",
        "Сюжет\n",
        "Задержание Павла Дурова\n",
        "Предположительно, Дурова сопровождала Юлия Вавилова — блогер и криптокоуч. После его задержания вечером 24 августа в Париже она перестала выходить на связь\n",
        "Юлия Вавилова\n",
        "Блогер и коуч по криптовалютам Юлия Вавилова, которая, предположительно, находилась вместе с основателем Telegram Павлом Дуровым во время задержания во Франции, не выходит на связь, сообщили телеграм-каналу Baza ее родственники.\n",
        "\n",
        "Дуров и Вавилова не афишировали отношения, но, судя по Stories девушки в Instagram (владелец соцсети, компания Meta, признана в России экстремистской и запрещена), этим летом она посещала одни и те же страны в то же время, когда там был Дуров, — в конце июня это был Казахстан, в августе — Азербайджан. Самолет основателя Telegram летел из этой страны перед посадкой в Париже, где в аэропорту его задержали. У пары появлялись и ролики из одних и тех же мест — например, из стрелкового клуба.\n",
        "\n",
        "Один из родственников Вавиловой сообщил Baza, что девушка общалась с матерью два дня назад, а сегодня, 25 августа, та не смогла дозвониться до дочери. Отец девушки сообщил, что последний раз общался с ней 2 августа, в день рождения, и рассказал, что она планировала поехать во Францию.\n",
        "\n",
        "РБК попытался связаться с Вавиловой, но она была недоступна.\n",
        "\n",
        "Телеграм-канал Mash тоже пишет, что 39-летнего Дурова сопровождала 24-летняя Вавилова. По его данным, пару видели вместе в дубайском фитнес-клубе Seven.\n",
        "\n",
        "Павел Дуров: что нам известно об основателе «ВКонтакте» и Telegram\n",
        "Социальная экономика\n",
        "Дурова задержали вечером 24 августа в парижском аэропорту после прилета из Азербайджана. Вместе с ним были девушка и охранник. Источники AFP говорили, что основатель Telegram планировал провести во французской столице как минимум один вечер и устроить ужин.\n",
        "\n",
        "Претензии французских силовиков к Дурову возникли из-за недостаточной, по их мнению, модерации в мессенджере и отказа от сотрудничества с властями в борьбе со злоумышленниками, использующими мессенджер. Из-за этого Дурову могут предъявить обвинения в обороте наркотиков, преступлениях против детей и мошенничестве. Как сообщил журналист телеканала LCI Сирил Амурский, Дурову грозит до 20 лет тюрьмы.\n",
        "\n",
        "У основателя Telegram есть как минимум четыре гражданства: России, ОАЭ, Франции и Сент-Китс и Невиса. Российское посольство во Франции сразу после задержания Дурова предприняло необходимые действия по прояснению ситуации, сообщали дипломаты. Французские власти пока «уклоняются от взаимодействия», заявили в дипмиссии.\n",
        "\n",
        "В поддержку Дурова выступили и в России, и за рубежом. У французского посольства в Москве прошла акция с бумажными самолетиками, которые россияне использовали в период блокировки Telegram в стране; ситуацию комментировали зампред Совбеза Дмитрий Медведев, бизнесмен Илон Маск, бывший агент АНБ США Эдвард Сноуден, журналист Такер Карлсон и другие.\n",
        "\n",
        "Маск объяснил, в чем разница между Дуровым и Цукербергом\n",
        "Илон Маск: в отличие от Дурова, Цукерберг сотрудничает с властями\n",
        "\n",
        "Сюжет\n",
        "Задержание Павла Дурова\n",
        "Цукерберг сотрудничает с властями и предоставляет им данные о пользователях, поэтому основателю Facebook не грозит задержание, как Дурову считает Маск. Он не исключал, что претензии вслед за Telegram могут возникнуть и к X\n",
        "Марк Цукерберг\n",
        "Главу Meta (владелец Facebook, Instagram, WhatsApp, компания признана в России экстремистской организацией и запрещена) Марка Цукерберга не задержат так же, как задержали основателя Telegram Павла Дурова, полагает владелец X (бывший Twitter) Илон Маск.\n",
        "\n",
        "«Потому что он (Цукерберг. — РБК) уже поддался давлению цензуры. В Instagram есть огромная проблема с эксплуатацией детей, но Цуку не грозит арест, поскольку он цензурирует свободу слова и предоставляет правительствам тайный доступ к данным пользователей», — заявил он.\n",
        "\n",
        "Дурова задержали вечером 24 августа в Париже после прилета из Азербайджана. Правоохранительные органы Франции подозревают основателя Telegram в причастности к «обороту наркотиков, преступлениям против детей и мошенничеству», указывая на недостаточную, по их мнению, модерацию в мессенджере и отказ от сотрудничества с властями. У Дурова есть французское гражданство.\n",
        "\n",
        "Как сообщил журналист телеканала LCI Сирил Амурский, Дурову грозит до 20 лет тюрьмы.\n",
        "\n",
        "AFP рассказало о планах Дурова в Париже\n",
        "Политика\n",
        "Павел Дуров\n",
        "Российский МИД сообщил, что посольство страны во Франции сразу после задержания основателя Telegram предприняло необходимые действия по прояснению ситуации. Французские власти пока «уклоняются от взаимодействия», заявили в дипмиссии.\n",
        "\n",
        "Заместитель председателя Совета безопасности Дмитрий Медведев после задержания Дурова напомнил, что спрашивал его в прошлом, почему он не хочет сотрудничать с правоохранительными структурами по тяжким преступлениям. «Это моя принципиальная позиция», — говорил ему Дуров, в ответ Медведев предупредил его о «серьезных проблемах в любой стране».\n",
        "\n",
        "Маск уже комментировал задержание россиянина. Он отметил, что ситуация является очень убедительной рекламой первой поправки к американской Конституции, которая гарантирует свободу слова. Также предприниматель предрек, что в Европе к 2030 году будут «казнить за то, что вы лайкнули мем».\n",
        "\n",
        "Кроме того, бизнесмен допустил, что вслед за Telegram в подобной ситуации может оказаться и Х.\n",
        "'''\n"
      ],
      "metadata": {
        "id": "0i1fs55GfqmG"
      },
      "execution_count": 4,
      "outputs": []
    },
    {
      "cell_type": "code",
      "source": [
        "doc = nlp(text)\n",
        "print('Все типы сущностей которые выделяет SpaCy')\n",
        "set_ent = set([ent.label_ for ent in doc.ents])\n",
        "set_ent"
      ],
      "metadata": {
        "colab": {
          "base_uri": "https://localhost:8080/"
        },
        "id": "e8-gxfd5ZUD2",
        "outputId": "45e67ec9-d231-440f-8d7e-927f0899d663"
      },
      "execution_count": 5,
      "outputs": [
        {
          "output_type": "stream",
          "name": "stdout",
          "text": [
            "Все типы сущностей которые выделяет SpaCy\n"
          ]
        },
        {
          "output_type": "execute_result",
          "data": {
            "text/plain": [
              "{'LOC', 'ORG', 'PER'}"
            ]
          },
          "metadata": {},
          "execution_count": 5
        }
      ]
    },
    {
      "cell_type": "markdown",
      "source": [
        "\n",
        "*   LOC — Location (Местоположение): обозначает географические места, такие как города, страны, реки и т.д.\n",
        "*   ORG — Organization (Организация): обозначает организации, компании, учреждения и другие группы, такие как корпорации, правительственные организации, НПО и т.д.\n",
        "*   PER — Person (Персона): обозначает имена людей, включая как полные имена, так и фамилии."
      ],
      "metadata": {
        "id": "rHtQFxCUhggW"
      }
    },
    {
      "cell_type": "code",
      "source": [
        "for elem in set_ent:\n",
        "  print(f'{elem} from the document above')\n",
        "  print(set([ent for ent in doc.ents if ent.label_ == elem]))"
      ],
      "metadata": {
        "colab": {
          "base_uri": "https://localhost:8080/"
        },
        "id": "p98StCOLZjTr",
        "outputId": "5e16375c-016e-4454-8a2a-6734ad6b0cd5"
      },
      "execution_count": 6,
      "outputs": [
        {
          "output_type": "stream",
          "name": "stdout",
          "text": [
            "PER from the document above\n",
            "{Павел Дуров, Илон Маск, Вавилова, Такер Карлсон, Медведев, Юлия Вавилова, Марк Цукерберг\n",
            "Главу Meta, Павел Дуров, Павла Дурова, Маск, Цукерберг, Дурова, Дуров, Вавиловой, Дурова, Цукерберг, Сирил Амурский, Юлия Вавилова, Дурову, Дурова, Дурова, Дурова, Дурова, Дурову, Цукербергом\n",
            "Илон Маск, Дуров, Павла Дурова, Сирил Амурский, Дуровым, Маск, Дурову, Эдвард Сноуден, Дурова, Дурова, Цукерберг, Вавилова, Дмитрий Медведев, Илон Маск, Цуку, Вавиловой, Павлом Дуровым, Юлия Вавилова, Х.\n",
            ", Марка Цукерберга, Павла Дурова, Дурову, Дмитрий Медведев, Дурову, Маск, Дуров, Дурова, Дурова, Дурова}\n",
            "ORG from the document above\n",
            "{Twitter, Telegram, Mash, WhatsApp, РБК, Telegram, Telegram, РБК, Instagram, AFP, АНБ, LCI, Telegram, Telegram, Совета безопасности, Telegram, Telegram, МИД, Instagram, Meta, Telegram, ВКонтакте, Baza, Baza, Seven, Facebook, Telegram, LCI, AFP, Телеграм-канал, Telegram, Instagram, Facebook, Telegram, Совбеза}\n",
            "LOC from the document above\n",
            "{России, Франции, ОАЭ, Азербайджан, Франции, России, Москве, Азербайджана, России, Париже, Невиса, Сент-Китс, Азербайджана, России, Париже, Франции, США, Франции, Париже, Казахстан, Европе, Франции, Францию, Париже}\n"
          ]
        }
      ]
    },
    {
      "cell_type": "markdown",
      "source": [
        "### Теперь bert"
      ],
      "metadata": {
        "id": "cCj1hSNgmA1G"
      }
    },
    {
      "cell_type": "code",
      "source": [
        "# Аналогично просто взял последнюю новостную статью с первого попавшегося сайта\n",
        "text_eng = '''\n",
        "Gen. McMaster’s blistering account of the Trump White House\n",
        "Peter Bergen\n",
        "Analysis by Peter Bergen, CNN\n",
        " 7 minute read\n",
        "Published 11:00 AM EDT, Sun August 25, 2024\n",
        "\n",
        " —\n",
        "Until now, Lt. Gen. H.R. McMaster has held his fire about his stint in the Trump White House. McMaster served with distinction in key American conflicts of the past decades: the Gulf War, the Iraq War, and the Afghan War, but as McMaster recounts in his new book, “At War with Ourselves: My Tour of Duty in the Trump White House,” in some ways, his most challenging tour as a soldier was his last one: serving as the national security adviser to a notoriously mercurial president.\n",
        "\n",
        "In his blistering, insightful account of his time in the Trump White House, McMaster describes meetings in the Oval Office as “exercises in competitive sycophancy” during which Trump’s advisers would flatter the president by saying stuff like, “Your instincts are always right” or, “No one has ever been treated so badly by the press.” Meanwhile, Trump would say “outlandish” things like, “Why don’t we just bomb the drugs?” in Mexico or, “Why don’t we take out the whole North Korean Army during one of their parades?”\n",
        "\n",
        "McMaster’s book, which focuses on Trump’s tenure as commander-in-chief, comes at a particularly timely moment, just as many Americans start to really consider whether Trump or Vice President Kamala Harris would make a better commander-in-chief.\n",
        "\n",
        "In her acceptance speech for her nomination to the presidency at the Democratic National Convention on Thursday, Harris spent some of her speech trying to demonstrate her national security credentials. She talked, for instance, about the war in Gaza, saying that as president she would stand firm on the US alliance with Israel to “ensure Israel has the ability to defend itself.” Harris also said that the Palestinians have “their right to dignity, security, freedom, and self-determination.” With this speech, Harris was trying to thread a delicate needle between Americans who strongly oppose the war — many of them in her own party — and those who back Israel wholeheartedly.\n",
        "\n",
        "McMaster provides unique detail on Trump’s approach to foreign policy and — similarly to his successor in the national security adviser role, former United Nations Ambassador John Bolton, who wrote scathingly about the former president in a book published in 2020 — his account is likely to do little to reassure US allies about the prospects of a second Trump term.\n",
        "\n",
        "In addition to being a highly decorated officer, McMaster also has a doctorate in history. His first book, “Dereliction of Duty: Johnson, McNamara, the Joint Chiefs of Staff, and the Lies That Led to Vietnam,” recounted the dismal history of how the top American generals told President Lyndon Johnson only what they thought he wanted to hear about the Vietnam War, rather than giving him their best military advice about how the conflict was going and the full range of policy options that were open to their commander in chief.\n",
        "\n",
        "‘Tell Trump what he didn’t want to hear’\n",
        "McMaster wasn’t going to make the same mistake after Trump tapped him to be his national security adviser in February 2017. He writes, “I knew that to fulfill my duty, I would have to tell Trump what he didn’t want to hear.” This helps explain why McMaster lasted just over a year in the job. (Disclosure: I have known McMaster professionally since 2010, when he ran an anti-corruption task force in Afghanistan).\n",
        "\n",
        "One subject was particularly neuralgic for Trump: Russia. McMaster astutely observes, “I wished that Trump could separate the issue of Russian election meddling from the legitimacy of his presidency. He could have said, ‘Yes, they attacked the election. But Russia doesn’t care who wins our elections. What they want to do is pit Americans against one another… .’ McMaster writes that the “fragility” of Trump’s ego and “his deep sense of aggrievement” would never allow him to make this kind of distinction.\n",
        "\n",
        "McMaster felt it was his “duty” to point out to Trump that Russian President Vladimir Putin “was not and would never be Trump’s friend.” McMaster warned Trump that Putin is “the best liar in the world” and would try to “play” Trump to get what he wanted and manipulate him with “ambiguous promises of a ‘better relationship.’”\n",
        "\n",
        "The final straw that ended McMaster’s tenure in the White House seems to have been when he publicly said on February 17, 2018, at the Munich Security Forum — the annual gathering of top Western foreign policy officials — that the indictment of a group of Russian intelligence officers for their interference in the 2016 US presidential election was “inconvertible” evidence of Russian meddling in that election.\n",
        "\n",
        "Trump soon tweeted, “General McMaster forgot to say that the results of the 2016 election were not impacted or changed by the Russians….” Once the commander-in-chief started publicly castigating him on Twitter, it was obvious that McMaster would not be long for the White House.\n",
        "\n",
        "McMaster’s account of the Trump team is not pretty. Steve Bannon, Trump’s “chief strategist” early in the presidency, is portrayed as a “fawning court jester” who played “on Trump’s anxiety and sense of beleaguerment … with stories, mainly about who was out to get him and what he could do to ‘counterpunch.’”\n",
        "\n",
        "Meanwhile, Secretary of State Rex Tillerson and Secretary of Defense James Mattis were often at odds with Trump, McMaster says. Tillerson, who had previously run Exxon, is portrayed as inaccessible to top officials in Trump’s administration, while Mattis is described as an obstructionist. McMaster writes that Tillerson and Mattis viewed Trump as “dangerous” and seemed to construe their roles as if “Trump was an emergency and that anyone abetting him was an adversary.” Trump himself also contributed to the dysfunction: “He enjoyed and contributed to interpersonal drama in the White House and across the administration.”\n",
        "\n",
        "Also, McMaster wasn’t on the same page as his boss on some key foreign policy issues. McMaster enumerates those issues as “allies, authoritarians, and Afghanistan.” Trump denigrated American allies whom he saw as “freeloaders”; he embraced authoritarian rulers who McMaster despised; and while Trump largely believed Afghanistan was a lost cause, McMaster thought there was a path forward for the country, and he pushed for a more significant US commitment there, while simultaneously blocking a cockamamie notion by Bannon to turn the conduct of the Afghan war over to American private military contractors.\n",
        "\n",
        "McMaster credits Trump on Syria and China\n",
        "McMaster does give Trump his due for some sound foreign policy decisions. Unlike President Barack Obama, who had dithered over his own “red line” when the Syrian dictator Bashar al-Assad used chemical weapons against civilians, Trump acted decisively when Assad used chemical weapons in early April 2017, killing dozens of civilians. Trump responded by ordering airstrikes against the Syrian airbase where the chemical weapons strike was launched from.\n",
        "\n",
        "And on the most important foreign policy issue, China, McMaster concluded that Trump made the right decisions. McMaster oversaw Trump’s 2017 national security strategy document, which took a tougher public stance on China than previous administrations, calling the Chinese out for stealing US intellectual property every year valued at “hundreds of billions of dollars” while noting that China “is building the most capable and well-funded military in the world, after our own.” Briefed by McMaster on the new national security strategy, Trump responded, “This is fantastic,” and asked for similar language in his upcoming speeches.\n",
        "\n",
        "The assault on the US Capitol on January 6, 2021, seems to have marked a decisive break from Trump for McMaster, who, in a previous book published in 2020, “Battlegrounds: The Fight to Defend the Free World,” had avoided direct criticisms of his former commander in chief.\n",
        "\n",
        "By contrast, in his new book, McMaster writes that in the aftermath of his 2020 electoral defeat, Trump’s “ego and love of self… drove him to abandon his oath to ‘support and defend the Constitution,’ a president’s highest obligation.” McMaster adds, “The attack on the US Capitol stained our image, and it will take a long-term effort to restore what Donald Trump, his enablers, and those they encouraged took from us that day.”\n",
        "\n",
        "So, what might this all mean for a second Trump term, if there is one? The Heritage Foundation’s Project 2025 outlines plans for Trump loyalists to replace numerous career foreign service officers and intelligence officials. Those loyalists would likely tell Trump precisely what he wants to hear rather than give the president their unvarnished assessments of the national security challenges facing the US, which is the proper role of American national security professionals.\n",
        "\n",
        "Trump has tried to distance himself from Project 2025, but the fact that CNN found at least 140 people who worked for Trump are involved in the project speaks for itself.  And in a second Trump term, there would likely be no McMasters to tell Trump what he doesn’t want to hear; in fact, that’s kind of the whole point of Project 2025, which would replace as many as 50,000 workers in the federal government with Trump loyalists.\n",
        "'''"
      ],
      "metadata": {
        "id": "JWl57o-GjBKP"
      },
      "execution_count": 7,
      "outputs": []
    },
    {
      "cell_type": "code",
      "source": [
        "generator = pipeline(\"ner\", model=\"dslim/bert-base-NER\", aggregation_strategy=\"simple\")\n",
        "answer = generator(text_eng)"
      ],
      "metadata": {
        "colab": {
          "base_uri": "https://localhost:8080/"
        },
        "collapsed": true,
        "id": "O_6VOTPOipU_",
        "outputId": "93a68cb5-88e8-4c7a-ed7c-61ad531ea043"
      },
      "execution_count": 8,
      "outputs": [
        {
          "output_type": "stream",
          "name": "stderr",
          "text": [
            "/usr/local/lib/python3.10/dist-packages/huggingface_hub/utils/_token.py:89: UserWarning: \n",
            "The secret `HF_TOKEN` does not exist in your Colab secrets.\n",
            "To authenticate with the Hugging Face Hub, create a token in your settings tab (https://huggingface.co/settings/tokens), set it as secret in your Google Colab and restart your session.\n",
            "You will be able to reuse this secret in all of your notebooks.\n",
            "Please note that authentication is recommended but still optional to access public models or datasets.\n",
            "  warnings.warn(\n",
            "Some weights of the model checkpoint at dslim/bert-base-NER were not used when initializing BertForTokenClassification: ['bert.pooler.dense.bias', 'bert.pooler.dense.weight']\n",
            "- This IS expected if you are initializing BertForTokenClassification from the checkpoint of a model trained on another task or with another architecture (e.g. initializing a BertForSequenceClassification model from a BertForPreTraining model).\n",
            "- This IS NOT expected if you are initializing BertForTokenClassification from the checkpoint of a model that you expect to be exactly identical (initializing a BertForSequenceClassification model from a BertForSequenceClassification model).\n"
          ]
        }
      ]
    },
    {
      "cell_type": "code",
      "source": [
        "for elem in answer:\n",
        "  if elem['entity_group'] != 'MISC': # Miscellaneous - не нужны\n",
        "    print(elem['word'], '-', elem['entity_group'])"
      ],
      "metadata": {
        "colab": {
          "base_uri": "https://localhost:8080/"
        },
        "id": "yBIVNyM8kDtx",
        "outputId": "ef4fc703-f4ea-486b-a435-c80c1ec3ceb7"
      },
      "execution_count": 9,
      "outputs": [
        {
          "output_type": "stream",
          "name": "stdout",
          "text": [
            "M - PER\n",
            "##cMaster - PER\n",
            "White House - LOC\n",
            "Peter Bergen - PER\n",
            "Peter Bergen - PER\n",
            "CNN - ORG\n",
            "Sun - ORG\n",
            "H - PER\n",
            ". R. McMaster - PER\n",
            "Trump - LOC\n",
            "White House - LOC\n",
            "McMaster - PER\n",
            "McMaster - PER\n",
            "Trump - PER\n",
            "White House - LOC\n",
            "Trump - PER\n",
            "White House - LOC\n",
            "McMaster - PER\n",
            "Oval Office - LOC\n",
            "Trump - PER\n",
            "Trump - PER\n",
            "Mexico - LOC\n",
            "North - ORG\n",
            "Army - ORG\n",
            "McMaster - PER\n",
            "Trump - PER\n",
            "Trump - PER\n",
            "Kamal - PER\n",
            "##a Harris - PER\n",
            "Harris - PER\n",
            "Gaza - LOC\n",
            "US - LOC\n",
            "Israel - LOC\n",
            "Israel - LOC\n",
            "Harris - PER\n",
            "Harris - PER\n",
            "Israel - LOC\n",
            "Trump - PER\n",
            "United Nations - ORG\n"
          ]
        }
      ]
    },
    {
      "cell_type": "markdown",
      "source": [
        "### Заключение\n",
        "На мой взгляд, поставленная задача выполнена. В описании задания ожидаемый результат содержит csv-файл с результами, полагаю  он релевантен при обработке из конкретного датасета. А так как мне не был дан датасет для обработки, то я сделал его в свободном формате.  \n",
        "\n",
        "Думаю понятно что пробежаться циклом по строкам таблички, повторяя написанный выше код, не сложно, так что если дадите датасет решение преобразуется за минуту."
      ],
      "metadata": {
        "id": "fiMFX5cnnAha"
      }
    },
    {
      "cell_type": "markdown",
      "source": [
        "### NLTK\n",
        "В ходе изучения информации наткнулся на эту библиотеку, которая позволяет сделать поэтапную обработку слов.  \n",
        "Решение не отличается от того что делает под капотом SpaCy, но возможно от меня ожидалось именно оно, приведу его ниже"
      ],
      "metadata": {
        "id": "pkFr0UkWnttv"
      }
    },
    {
      "cell_type": "code",
      "source": [
        "import nltk\n",
        "from nltk import word_tokenize, pos_tag\n",
        "from nltk import RegexpParser\n",
        "from nltk.draw.tree import TreeView\n",
        "from IPython.display import Image\n",
        "from nltk.chunk import conlltags2tree, tree2conlltags\n",
        "from pprint import pprint\n",
        "from nltk.chunk import ne_chunk\n"
      ],
      "metadata": {
        "id": "t5cIJ3hWntP2"
      },
      "execution_count": 10,
      "outputs": []
    },
    {
      "cell_type": "code",
      "source": [
        "nltk.download('punkt')\n",
        "nltk.download('averaged_perceptron_tagger')\n",
        "nltk.download('maxent_ne_chunker')\n",
        "nltk.download('words')"
      ],
      "metadata": {
        "colab": {
          "base_uri": "https://localhost:8080/"
        },
        "id": "OQsSXXdEoTdz",
        "outputId": "531889dc-937d-4f8c-dac4-3eb230a8f5e3"
      },
      "execution_count": 11,
      "outputs": [
        {
          "output_type": "stream",
          "name": "stderr",
          "text": [
            "[nltk_data] Downloading package punkt to /root/nltk_data...\n",
            "[nltk_data]   Package punkt is already up-to-date!\n",
            "[nltk_data] Downloading package averaged_perceptron_tagger to\n",
            "[nltk_data]     /root/nltk_data...\n",
            "[nltk_data]   Package averaged_perceptron_tagger is already up-to-\n",
            "[nltk_data]       date!\n",
            "[nltk_data] Downloading package maxent_ne_chunker to\n",
            "[nltk_data]     /root/nltk_data...\n",
            "[nltk_data]   Package maxent_ne_chunker is already up-to-date!\n",
            "[nltk_data] Downloading package words to /root/nltk_data...\n",
            "[nltk_data]   Package words is already up-to-date!\n"
          ]
        },
        {
          "output_type": "execute_result",
          "data": {
            "text/plain": [
              "True"
            ]
          },
          "metadata": {},
          "execution_count": 11
        }
      ]
    },
    {
      "cell_type": "code",
      "source": [
        "sent = pos_tag(word_tokenize(text_eng))\n",
        "patterns= \"\"\"mychunk:{<NN.*>+}\"\"\"\n",
        "chunker = RegexpParser(patterns)\n",
        "output = chunker.parse(sent)\n",
        "iob_tagged = tree2conlltags(output)"
      ],
      "metadata": {
        "id": "g-mrbW62oZDb"
      },
      "execution_count": 12,
      "outputs": []
    },
    {
      "cell_type": "code",
      "source": [
        "def extract_ne(trees, labels):\n",
        "\n",
        "    ne_list = []\n",
        "    for tree in ne_res:\n",
        "        if hasattr(tree, 'label'):\n",
        "            if tree.label() in labels:\n",
        "                ne_list.append(tree)\n",
        "\n",
        "    return ne_list\n",
        "\n",
        "ne_res = ne_chunk(sent)\n",
        "labels = ['ORGANIZATION', 'PERSON', 'LOCATIONS']\n",
        "\n",
        "print(extract_ne(ne_res, labels))"
      ],
      "metadata": {
        "colab": {
          "base_uri": "https://localhost:8080/"
        },
        "id": "SrB3ultTobZ7",
        "outputId": "f5b56815-a216-498f-f466-75bb5a70811b"
      },
      "execution_count": 13,
      "outputs": [
        {
          "output_type": "stream",
          "name": "stdout",
          "text": [
            "[Tree('PERSON', [('Peter', 'NNP'), ('Bergen', 'NNP')]), Tree('ORGANIZATION', [('CNN', 'NNP')]), Tree('ORGANIZATION', [('Sun', 'NNP')]), Tree('ORGANIZATION', [('McMaster', 'NNP')]), Tree('ORGANIZATION', [('McMaster', 'NNP')]), Tree('ORGANIZATION', [('Afghan', 'NNP'), ('War', 'NNP')]), Tree('ORGANIZATION', [('McMaster', 'NNP')]), Tree('ORGANIZATION', [('War', 'NNP')]), Tree('PERSON', [('Ourselves', 'NNPS')]), Tree('ORGANIZATION', [('McMaster', 'NNP')]), Tree('PERSON', [('Trump', 'NNP')]), Tree('PERSON', [('Trump', 'NNP')]), Tree('ORGANIZATION', [('McMaster', 'NNP')]), Tree('PERSON', [('Trump', 'NNP')]), Tree('PERSON', [('Kamala', 'NNP'), ('Harris', 'NNP')]), Tree('ORGANIZATION', [('Democratic', 'JJ'), ('National', 'NNP'), ('Convention', 'NNP')]), Tree('PERSON', [('Harris', 'NNP')]), Tree('PERSON', [('Harris', 'NNP')]), Tree('PERSON', [('Harris', 'NNP')]), Tree('ORGANIZATION', [('McMaster', 'NNP')]), Tree('ORGANIZATION', [('United', 'NNP'), ('Nations', 'NNPS'), ('Ambassador', 'NNP')]), Tree('PERSON', [('John', 'NNP'), ('Bolton', 'NNP')]), Tree('ORGANIZATION', [('McMaster', 'NNP')]), Tree('PERSON', [('Johnson', 'NNP')]), Tree('ORGANIZATION', [('McNamara', 'NNP')]), Tree('ORGANIZATION', [('Joint', 'NNP'), ('Chiefs', 'NNP')]), Tree('PERSON', [('Led', 'NNP')]), Tree('PERSON', [('Lyndon', 'NNP'), ('Johnson', 'NNP')]), Tree('ORGANIZATION', [('Vietnam', 'NNP'), ('War', 'NNP')]), Tree('ORGANIZATION', [('Tell', 'NNP')]), Tree('ORGANIZATION', [('McMaster', 'NNP')]), Tree('PERSON', [('Trump', 'NNP')]), Tree('PERSON', [('Trump', 'NNP')]), Tree('ORGANIZATION', [('McMaster', 'NNP')]), Tree('ORGANIZATION', [('McMaster', 'NNP')]), Tree('PERSON', [('Trump', 'NN')]), Tree('PERSON', [('Trump', 'NNP')]), Tree('ORGANIZATION', [('McMaster', 'NNP')]), Tree('PERSON', [('Trump', 'NNP')]), Tree('ORGANIZATION', [('McMaster', 'NNP')]), Tree('PERSON', [('Vladimir', 'NNP'), ('Putin', 'NNP')]), Tree('PERSON', [('Trump', 'NNP')]), Tree('PERSON', [('Trump', 'NNP')]), Tree('PERSON', [('Putin', 'NNP')]), Tree('ORGANIZATION', [('McMaster', 'NNP')]), Tree('ORGANIZATION', [('Munich', 'NNP')]), Tree('PERSON', [('Trump', 'NNP')]), Tree('PERSON', [('Twitter', 'NNP')]), Tree('ORGANIZATION', [('McMaster', 'NNP')]), Tree('ORGANIZATION', [('McMaster', 'NNP')]), Tree('ORGANIZATION', [('Trump', 'NNP')]), Tree('PERSON', [('Steve', 'NNP'), ('Bannon', 'NNP')]), Tree('PERSON', [('Trump', 'NNP')]), Tree('ORGANIZATION', [('State', 'NNP'), ('Rex', 'NNP'), ('Tillerson', 'NNP')]), Tree('ORGANIZATION', [('Defense', 'NNP')]), Tree('PERSON', [('James', 'NNP'), ('Mattis', 'NNP')]), Tree('PERSON', [('Trump', 'NNP')]), Tree('ORGANIZATION', [('McMaster', 'NNP')]), Tree('PERSON', [('Tillerson', 'NNP')]), Tree('PERSON', [('Exxon', 'NNP')]), Tree('PERSON', [('Mattis', 'NNP')]), Tree('ORGANIZATION', [('McMaster', 'NNP')]), Tree('PERSON', [('Tillerson', 'NNP')]), Tree('PERSON', [('Mattis', 'NNP')]), Tree('PERSON', [('Trump', 'NNP')]), Tree('PERSON', [('Trump', 'NNP')]), Tree('ORGANIZATION', [('McMaster', 'NNP')]), Tree('ORGANIZATION', [('McMaster', 'NNP')]), Tree('PERSON', [('Trump', 'NNP')]), Tree('ORGANIZATION', [('McMaster', 'NNP')]), Tree('PERSON', [('Trump', 'NNP')]), Tree('ORGANIZATION', [('McMaster', 'NNP')]), Tree('PERSON', [('Bannon', 'NNP')]), Tree('ORGANIZATION', [('McMaster', 'NNP')]), Tree('PERSON', [('Trump', 'NNP')]), Tree('PERSON', [('Barack', 'NNP'), ('Obama', 'NNP')]), Tree('PERSON', [('Bashar', 'NNP')]), Tree('PERSON', [('Trump', 'NNP')]), Tree('PERSON', [('Assad', 'NNP')]), Tree('PERSON', [('Trump', 'NNP')]), Tree('ORGANIZATION', [('McMaster', 'NNP')]), Tree('PERSON', [('Trump', 'NNP')]), Tree('ORGANIZATION', [('McMaster', 'NNP')]), Tree('PERSON', [('Trump', 'NNP')]), Tree('ORGANIZATION', [('McMaster', 'NNP')]), Tree('PERSON', [('Trump', 'NNP')]), Tree('ORGANIZATION', [('US', 'NNP'), ('Capitol', 'NNP')]), Tree('ORGANIZATION', [('McMaster', 'NNP')]), Tree('ORGANIZATION', [('Free', 'NNP'), ('World', 'NNP')]), Tree('ORGANIZATION', [('McMaster', 'NNP')]), Tree('PERSON', [('Trump', 'NNP')]), Tree('ORGANIZATION', [('McMaster', 'NNP')]), Tree('ORGANIZATION', [('US', 'NNP'), ('Capitol', 'NNP')]), Tree('PERSON', [('Donald', 'NNP'), ('Trump', 'NNP')]), Tree('ORGANIZATION', [('Heritage', 'NNP'), ('Foundation', 'NNP')]), Tree('ORGANIZATION', [('Trump', 'NNP')]), Tree('PERSON', [('Trump', 'NNP')]), Tree('PERSON', [('Trump', 'NNP')]), Tree('ORGANIZATION', [('CNN', 'NNP')]), Tree('PERSON', [('Trump', 'NNP')]), Tree('PERSON', [('Trump', 'NNP')]), Tree('PERSON', [('Trump', 'NNP')])]\n"
          ]
        }
      ]
    }
  ]
}